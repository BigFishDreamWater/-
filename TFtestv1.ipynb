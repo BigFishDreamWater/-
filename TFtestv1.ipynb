{
  "nbformat": 4,
  "nbformat_minor": 0,
  "metadata": {
    "colab": {
      "name": "TFtestv1.ipynb",
      "provenance": [],
      "private_outputs": true,
      "authorship_tag": "ABX9TyOoWlWtO/77d7fcUR+2eVkS",
      "include_colab_link": true
    },
    "kernelspec": {
      "name": "python3",
      "display_name": "Python 3"
    },
    "accelerator": "GPU"
  },
  "cells": [
    {
      "cell_type": "markdown",
      "metadata": {
        "id": "view-in-github",
        "colab_type": "text"
      },
      "source": [
        "<a href=\"https://colab.research.google.com/github/BigFishDreamWater/-/blob/master/TFtestv1.ipynb\" target=\"_parent\"><img src=\"https://colab.research.google.com/assets/colab-badge.svg\" alt=\"Open In Colab\"/></a>"
      ]
    },
    {
      "cell_type": "code",
      "metadata": {
        "id": "eAX2CNEMrnge",
        "colab_type": "code",
        "colab": {}
      },
      "source": [
        "device_name = tf.test.gpu_device_name()\n",
        "if device_name != '/device:GPU:0':\n",
        " raise SystemError('GPU device not found')\n",
        "print('Found GPU at: {}'.format(device_name))\n",
        "import tensorflow as tf\n",
        "from tensorflow.keras.layers import Dense,Flatten,Conv2D\n",
        "from tensorflow.keras import Model\n",
        "from tensorflow.python.client import device_lib\n",
        "device_lib.list_local_devices()\n",
        "!cat /proc/cpuinfo"
      ],
      "execution_count": 0,
      "outputs": []
    },
    {
      "cell_type": "markdown",
      "metadata": {
        "id": "giZBWzE9sDQf",
        "colab_type": "text"
      },
      "source": [
        "HAHA \n"
      ]
    },
    {
      "cell_type": "code",
      "metadata": {
        "id": "UkJyKrl8sFEj",
        "colab_type": "code",
        "colab": {}
      },
      "source": [
        "mnist=tf.keras.datasets.mnist\n",
        "(x_train,y_train),(x_test,y_test)=mnist.load_data()\n",
        "x_train,x_test=x_train/255.0,x_test/255.0\n",
        "\n",
        "x_train=x_train[...,tf.newaxis]\n",
        "x_test=x_test[...,tf.newaxis]\n",
        "\n",
        "train_ds=tf.data.Dataset.from_tensor_slices(\n",
        "    (x_train,y_train)).shuffle(10000).batch(32)\n",
        "test_ds=tf.data.Dataset.from_tensor_slices((x_test,y_test)).batch(32)\n",
        "\n"
      ],
      "execution_count": 0,
      "outputs": []
    },
    {
      "cell_type": "markdown",
      "metadata": {
        "id": "XzPsRb9TzAvw",
        "colab_type": "text"
      },
      "source": [
        "# 新段落"
      ]
    },
    {
      "cell_type": "code",
      "metadata": {
        "id": "37JHH1q3ssoh",
        "colab_type": "code",
        "colab": {}
      },
      "source": [
        "class MyModel(Model):\n",
        "    def __init__(self):\n",
        "        super(MyModel,self).__init__()\n",
        "        self.conv1= Conv2D(32,3,activation='relu')\n",
        "        self.flatten=Flatten()\n",
        "        self.d1=Dense(128,activation='relu')\n",
        "        self.d2=Dense(10)\n",
        "    def call(self,x):\n",
        "        x=self.conv1(x)\n",
        "        x=self.flatten(x)\n",
        "        x=self.d1(x)\n",
        "        return self.d2(x)\n",
        "model=MyModel()"
      ],
      "execution_count": 0,
      "outputs": []
    },
    {
      "cell_type": "code",
      "metadata": {
        "id": "VEbGI8ussteC",
        "colab_type": "code",
        "colab": {}
      },
      "source": [
        "loss_object=tf.keras.losses.SparseCategoricalCrossentropy(from_logits=True)\n",
        "\n",
        "optimizer=tf.keras.optimizers.Adam()\n",
        "\n",
        "train_loss=tf.keras.metrics.Mean(name='train_loss')\n",
        "train_accuracy=tf.keras.metrics.SparseCategoricalAccuracy(name='train_accuracy')\n",
        "\n",
        "test_loss=tf.keras.metrics.Mean(name='test_loss')\n",
        "test_accuracy=tf.keras.metrics.SparseCategoricalAccuracy(name='test_accuracy')"
      ],
      "execution_count": 0,
      "outputs": []
    },
    {
      "cell_type": "code",
      "metadata": {
        "id": "RqjX6wQps3dX",
        "colab_type": "code",
        "colab": {}
      },
      "source": [
        "@tf.function\n",
        "\n",
        "def train_step(images,labels):\n",
        "    with tf.GradientTape()as tape:\n",
        "        predcitions=model(images,training=True)\n",
        "        loss=loss_object(labels,predcitions)\n",
        "    gradients=tape.gradient(loss,model.trainable_variables)\n",
        "    optimizer.apply_gradients(zip(gradients,model.trainable_variables))\n",
        "\n",
        "    train_loss(loss)\n",
        "    train_accuracy(labels,predcitions)"
      ],
      "execution_count": 0,
      "outputs": []
    },
    {
      "cell_type": "code",
      "metadata": {
        "id": "gzE0rAljs6IY",
        "colab_type": "code",
        "colab": {}
      },
      "source": [
        "@tf.function\n",
        "def test_step(images,labels):\n",
        "\n",
        "    predictions=model(images,training=False)\n",
        "    t_loss=loss_object(labels,predictions)\n",
        "\n",
        "    test_loss(t_loss)\n",
        "    test_accuracy(labels,predictions)\n",
        "EPOCHS=5\n",
        "\n",
        "for epoch in range(EPOCHS):\n",
        "    train_loss.reset_states()\n",
        "    train_accuracy.reset_states()\n",
        "    test_loss.reset_states()\n",
        "    test_accuracy.reset_states()\n",
        "    for images,labels in train_ds:\n",
        "\n",
        "        train_step(images,labels)\n",
        "    \n",
        "    for test_images,test_labels in test_ds:\n",
        "        test_step(test_images,test_labels)\n",
        "    template='Epoch{},Loss:{},Accuracy:{},Test Loss:{},Test Accuracy:{}' \n",
        "    print(template.format(epoch+1,train_loss.result(),train_accuracy.result()*100,test_loss.result(),test_accuracy.result()*100))"
      ],
      "execution_count": 0,
      "outputs": []
    },
    {
      "cell_type": "code",
      "metadata": {
        "id": "Mg8ap2Lnt_1F",
        "colab_type": "code",
        "colab": {}
      },
      "source": [
        ""
      ],
      "execution_count": 0,
      "outputs": []
    }
  ]
}